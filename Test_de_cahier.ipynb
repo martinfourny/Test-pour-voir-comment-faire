{
 "cells": [
  {
   "cell_type": "code",
   "execution_count": 15,
   "id": "bc66e088",
   "metadata": {},
   "outputs": [
    {
     "name": "stdout",
     "output_type": "stream",
     "text": [
      "Colonnes détectées : Index(['Date', 'SP/GOLD', 'MM7'], dtype='object')\n"
     ]
    },
    {
     "data": {
      "text/html": [
       "<iframe\n",
       "    scrolling=\"no\"\n",
       "    width=\"100%\"\n",
       "    height=\"545px\"\n",
       "    src=\"iframe_figures/figure_15.html\"\n",
       "    frameborder=\"0\"\n",
       "    allowfullscreen\n",
       "></iframe>\n"
      ]
     },
     "metadata": {},
     "output_type": "display_data"
    }
   ],
   "source": [
    "import pandas as pd\n",
    "import plotly.graph_objects as go\n",
    "import plotly.io as pio\n",
    "\n",
    "file_path = \"/Users/martin/Documents/Projet pour tester si ca marche/données sp:Or.csv\"\n",
    "\n",
    "# Essaye avec latin1 (ou encoding=\"cp1252\" si besoin)\n",
    "df = pd.read_csv(file_path, sep=\";\", encoding=\"latin1\")\n",
    "\n",
    "# Vérification des colonnes\n",
    "print(\"Colonnes détectées :\", df.columns)\n",
    "\n",
    "# Conversion de la colonne Date (adapte le nom exact si besoin)\n",
    "df[\"DATE\"] = pd.to_datetime(df[\"Date\"], format=\"%d/%m/%Y\", errors='coerce')\n",
    "# Garder seulement les colonnes utiles\n",
    "colonnes_possibles = [c for c in [\"SP/GOLD\", \"MM7\"] if c in df.columns]\n",
    "df = df[[\"DATE\"] + colonnes_possibles].dropna()\n",
    "\n",
    "# -------- Graphique Plotly --------\n",
    "fig = go.Figure()\n",
    "\n",
    "if \"SP/GOLD\" in df.columns:\n",
    "    fig.add_trace(go.Scatter(\n",
    "        x=df[\"DATE\"], y=df[\"SP/GOLD\"],\n",
    "        mode=\"lines\",\n",
    "        name=\"SP/GOLD\",\n",
    "        line=dict(color=\"blue\")\n",
    "    ))\n",
    "\n",
    "if \"MM7\" in df.columns:\n",
    "    fig.add_trace(go.Scatter(\n",
    "        x=df[\"DATE\"], y=df[\"MM7\"],\n",
    "        mode=\"lines\",\n",
    "        name=\"Moyenne Mobile 7\",\n",
    "        line=dict(color=\"red\", dash=\"dash\")\n",
    "    ))\n",
    "\n",
    "fig.update_layout(\n",
    "    title=\"Ratio SP500 / Or (Plotly zoomable)\",\n",
    "    xaxis=dict(title=\"Date\", rangeslider=dict(visible=True)),\n",
    "    yaxis=dict(title=\"Valeur\"),\n",
    "    template=\"plotly_white\",\n",
    "    legend=dict(x=0, y=1.1, orientation=\"h\")\n",
    ")\n",
    "\n",
    "fig.show()\n"
   ]
  }
 ],
 "metadata": {
  "kernelspec": {
   "display_name": "Python 3",
   "language": "python",
   "name": "python3"
  },
  "language_info": {
   "codemirror_mode": {
    "name": "ipython",
    "version": 3
   },
   "file_extension": ".py",
   "mimetype": "text/x-python",
   "name": "python",
   "nbconvert_exporter": "python",
   "pygments_lexer": "ipython3",
   "version": "3.13.7"
  }
 },
 "nbformat": 4,
 "nbformat_minor": 5
}
